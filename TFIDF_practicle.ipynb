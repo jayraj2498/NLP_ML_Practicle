{
 "cells": [
  {
   "cell_type": "markdown",
   "metadata": {},
   "source": [
    "# we will create our own data  data "
   ]
  },
  {
   "cell_type": "code",
   "execution_count": 4,
   "metadata": {},
   "outputs": [
    {
     "name": "stdout",
     "output_type": "stream",
     "text": [
      "                                                text  review\n",
      "0             Poor acting and a confusing storyline.       0\n",
      "1  A brilliant and thought-provoking piece of cin...       1\n",
      "2  A forgettable experience that I wouldn't recom...       0\n",
      "3  A visually stunning masterpiece that deserves ...       1\n",
      "4  An emotional journey that resonated with me de...       1\n"
     ]
    }
   ],
   "source": [
    "import pandas as pd\n",
    "import random\n",
    "\n",
    "# Function to generate synthetic data\n",
    "def generate_synthetic_data(num_samples):\n",
    "    positive_reviews = [\n",
    "        \"I loved the movie. The storyline was amazing.\",\n",
    "        \"Great acting and a compelling plot.\",\n",
    "        \"One of the best movies I've seen in years.\",\n",
    "        \"Amazing cinematography and excellent performances.\",\n",
    "        \"A heartwarming and touching film.\",\n",
    "        \"The characters were well-developed, and the dialogue was engaging.\",\n",
    "        \"A must-watch for all movie enthusiasts.\",\n",
    "        \"I couldn't get enough of this movie. Highly recommended.\",\n",
    "        \"Thoroughly enjoyed every moment of the film.\",\n",
    "        \"The director did a fantastic job bringing the story to life.\",\n",
    "        \"Incredible visual effects and a gripping narrative.\",\n",
    "        \"A masterpiece of storytelling and filmmaking.\",\n",
    "        \"The soundtrack added a lot to the overall experience.\",\n",
    "        \"An instant classic. I will definitely watch it again.\",\n",
    "        \"The movie exceeded my expectations. A true gem.\",\n",
    "        \"A brilliant and thought-provoking piece of cinema.\",\n",
    "        \"I was on the edge of my seat throughout the entire film.\",\n",
    "        \"The humor in the movie was spot-on and had me laughing non-stop.\",\n",
    "        \"The twists and turns kept me guessing until the end.\",\n",
    "        \"Fantastic chemistry among the cast members.\", \n",
    "     \"I loved the movie. The storyline was amazing.\",\n",
    "    \"Great acting and a compelling plot.\",\n",
    "    \"One of the best movies I've seen in years.\",\n",
    "    \"Amazing cinematography and excellent performances.\",\n",
    "    \"A heartwarming and touching film.\",\n",
    "    \"The characters were well-developed, and the dialogue was engaging.\",\n",
    "    \"A must-watch for all movie enthusiasts.\",\n",
    "    \"I couldn't get enough of this movie. Highly recommended.\",\n",
    "    \"Thoroughly enjoyed every moment of the film.\",\n",
    "    \"The director did a fantastic job bringing the story to life.\",\n",
    "    \"Incredible visual effects and a gripping narrative.\",\n",
    "    \"A masterpiece of storytelling and filmmaking.\",\n",
    "    \"The soundtrack added a lot to the overall experience.\",\n",
    "    \"An instant classic. I will definitely watch it again.\",\n",
    "    \"The movie exceeded my expectations. A true gem.\",\n",
    "    \"A brilliant and thought-provoking piece of cinema.\",\n",
    "    \"I was on the edge of my seat throughout the entire film.\",\n",
    "    \"The humor in the movie was spot-on and had me laughing non-stop.\",\n",
    "    \"The twists and turns kept me guessing until the end.\",\n",
    "    \"Fantastic chemistry among the cast members.\",\n",
    "    \"The pacing was perfect, and I was captivated from start to finish.\",\n",
    "    \"I found the movie to be uplifting and inspiring.\",\n",
    "    \"The visuals were stunning, and the special effects were top-notch.\",\n",
    "    \"The ending was satisfying and left a lasting impression.\",\n",
    "    \"The movie successfully delivered on its promises. A true cinematic delight.\",\n",
    "    \"I can't wait to recommend this film to all my friends.\",\n",
    "    \"The attention to detail in every scene was remarkable.\",\n",
    "    \"A feel-good movie that left me with a smile on my face.\",\n",
    "    \"The performances were outstanding, especially from the lead actors.\",\n",
    "    \"I was pleasantly surprised by how much I enjoyed this movie.\",\n",
    "    \"The storytelling was compelling, and the character development was impressive.\",\n",
    "    \"The cinematography was breathtaking, capturing the essence of the story.\",\n",
    "    \"The movie resonated with me on a deep emotional level.\",\n",
    "    \"A true work of art that deserves all the praise it receives.\",\n",
    "    \"I was immersed in the world of the movie, thanks to its immersive storytelling.\",\n",
    "    \"The movie left me in awe, and I couldn't stop thinking about it.\",\n",
    "    \"The soundtrack complemented the scenes perfectly, enhancing the overall experience.\",\n",
    "    \"I appreciated the attention to detail in the set design and costumes.\",\n",
    "    \"The movie had a powerful message that left a lasting impact on me.\",\n",
    "    \"I felt a strong connection to the characters and their journeys.\",\n",
    "    \"The humor was clever and had me laughing throughout.\",\n",
    "    \"The movie had a unique and fresh perspective that set it apart.\",\n",
    "    \"The plot twists were unexpected and kept me engaged until the end.\",\n",
    "    \"I was thoroughly entertained and would gladly watch it again.\",\n",
    "    \"The movie was a delightful escape, providing a much-needed break from reality.\", \n",
    "     \"The movie captivated my attention from start to finish.\",\n",
    "        \"Outstanding performances and a well-crafted storyline.\",\n",
    "        \"An enjoyable cinematic experience with great visuals.\",\n",
    "        \"I was pleasantly surprised by the depth of the characters.\",\n",
    "        \"The humor in the movie was clever and had me laughing.\",\n",
    "        \"A feel-good film that left me in a positive mood.\",\n",
    "        \"The soundtrack added an extra layer to the overall atmosphere.\",\n",
    "        \"This movie is a gem that deserves more recognition.\",\n",
    "        \"The pacing was perfect, keeping me engaged throughout.\",\n",
    "        \"I appreciated the attention to detail in the production design.\",\n",
    "        \"An emotional journey that resonated with me deeply.\",\n",
    "        \"The plot twists were unexpected and added excitement.\",\n",
    "        \"The chemistry between the lead actors was palpable.\",\n",
    "        \"The cinematography was top-notch, creating visually stunning scenes.\",\n",
    "        \"I was moved by the powerful message conveyed in the film.\",\n",
    "        \"A thought-provoking and intellectually stimulating movie.\",\n",
    "        \"The movie stayed true to its source material and pleased fans.\",\n",
    "        \"I was on the edge of my seat during the intense scenes.\",\n",
    "        \"The director's vision was brilliantly executed on screen.\",\n",
    "        \"A heartwarming tale that left a lasting impression.\",\n",
    "        \"The special effects were groundbreaking and impressive.\",\n",
    "        \"I found myself fully immersed in the world the movie created.\",\n",
    "        \"The performances were nuanced, bringing depth to the characters.\",\n",
    "        \"The movie left me pondering its themes long after it ended.\",\n",
    "        \"A must-watch for anyone who appreciates cinematic artistry.\",\n",
    "        \"The dialogue was sharp, witty, and added to the overall charm.\",\n",
    "        \"An instant classic that I will recommend to others.\",\n",
    "        \"The twists and turns in the plot kept me guessing until the end.\",\n",
    "        \"I felt a strong emotional connection to the characters' journeys.\",\n",
    "        \"The movie offered a fresh take on a familiar genre.\",\n",
    "        \"The soundtrack was memorable and enhanced key moments.\",\n",
    "        \"A visually stunning masterpiece that deserves recognition.\",\n",
    "        \"I found the movie to be both entertaining and thought-provoking.\",\n",
    "        \"The ensemble cast delivered exceptional performances.\",\n",
    "        \"The movie left me with a sense of awe and wonder.\",\n",
    "        \"A delightful escape from reality, providing pure enjoyment.\",\n",
    "        \"The attention to detail in the set design was impressive.\",\n",
    "        \"The movie successfully balanced humor and heartfelt moments.\",\n",
    "        \"I was invested in the characters' fates and cared about their stories.\",\n",
    "        \"The cinematography was beautiful, creating a visually captivating experience.\",\n",
    "        \"An impactful and emotionally resonant cinematic journey.\", \n",
    "      \n",
    "    ]\n",
    "\n",
    "    negative_reviews = [\n",
    "        \"The movie was terrible. I didn't enjoy it at all.\",\n",
    "        \"Poor acting and a confusing storyline.\",\n",
    "        \"I regret watching this film.\",\n",
    "        \"Disappointing and predictable. Not worth the hype.\",\n",
    "        \"Lackluster performances and a weak plot.\",\n",
    "        \"I found it boring and uninteresting.\",\n",
    "        \"The characters were poorly developed.\",\n",
    "        \"A complete waste of time. I wouldn't recommend it.\",\n",
    "        \"The dialogue felt forced, and the pacing was off.\",\n",
    "        \"I expected more from this movie, but it fell short.\",\n",
    "        \"The film lacked originality and creativity.\",\n",
    "        \"I couldn't connect with the characters.\",\n",
    "        \"The special effects were subpar.\",\n",
    "        \"I was disappointed by the lack of depth in the story.\",\n",
    "        \"The movie was overhyped and did not live up to expectations.\",\n",
    "        \"A letdown from start to finish.\",\n",
    "        \"I couldn't wait for it to be over.\",\n",
    "        \"The plot was confusing, and I lost interest quickly.\",\n",
    "        \"The acting was wooden and unconvincing.\",\n",
    "        \"A forgettable experience. I wouldn't watch it again.\", \n",
    "    \"The movie was terrible. I didn't enjoy it at all.\",\n",
    "    \"Poor acting and a confusing storyline.\",\n",
    "    \"I regret watching this film.\",\n",
    "    \"Disappointing and predictable. Not worth the hype.\",\n",
    "    \"Lackluster performances and a weak plot.\",\n",
    "    \"I found it boring and uninteresting.\",\n",
    "    \"The characters were poorly developed.\",\n",
    "    \"A complete waste of time. I wouldn't recommend it.\",\n",
    "    \"The dialogue felt forced, and the pacing was off.\",\n",
    "    \"I expected more from this movie, but it fell short.\",\n",
    "    \"The film lacked originality and creativity.\",\n",
    "    \"I couldn't connect with the characters.\",\n",
    "    \"The special effects were subpar.\",\n",
    "    \"I was disappointed by the lack of depth in the story.\",\n",
    "    \"The movie was overhyped and did not live up to expectations.\",\n",
    "    \"A letdown from start to finish.\",\n",
    "    \"I couldn't wait for it to be over.\",\n",
    "    \"The plot was confusing, and I lost interest quickly.\",\n",
    "    \"The acting was wooden and unconvincing.\",\n",
    "    \"A forgettable experience. I wouldn't watch it again.\",\n",
    "    \"The movie failed to deliver on its promises.\",\n",
    "    \"I felt no emotional connection to the characters or their struggles.\",\n",
    "    \"The storyline was predictable, and I saw the twists coming from a mile away.\",\n",
    "    \"The pacing was uneven, making it difficult to stay engaged.\",\n",
    "    \"The movie lacked substance and failed to leave a lasting impression.\",\n",
    "    \"The dialogue was clichéd, and the characters felt like caricatures.\",\n",
    "    \"I was left feeling unsatisfied and disappointed by the ending.\",\n",
    "    \"The visuals were mediocre, and the cinematography was uninspiring.\",\n",
    "    \"The movie felt like a generic rehash of familiar tropes.\",\n",
    "    \"I found it difficult to care about the fate of the characters.\",\n",
    "    \"The humor fell flat, and I didn't find anything amusing.\",\n",
    "    \"The movie relied too heavily on clichés and stereotypes.\",\n",
    "    \"I struggled to stay interested, and the plot failed to captivate me.\",\n",
    "    \"The performances were lackluster, and the actors seemed uninvested.\",\n",
    "    \"The movie felt like a missed opportunity to explore deeper themes.\",\n",
    "    \"I was left questioning the purpose and meaning of the story.\",\n",
    "    \"The soundtrack did little to enhance the overall experience.\",\n",
    "    \"I would not recommend this movie to anyone.\",\n",
    "    \"The movie was a disappointment, and I felt like I wasted my time.\",\n",
    "    \"I was left with more questions than answers by the end.\",\n",
    "    \"The film lacked originality, and I've seen similar stories done better.\",\n",
    "    \"I found myself checking the time, waiting for the movie to be over.\",\n",
    "    \"The movie felt like a chore to watch, and I wouldn't revisit it.\",\n",
    "    \"I was left feeling underwhelmed and dissatisfied.\",\n",
    "    \"The movie failed to hold my interest, and I found it dull.\",\n",
    "        \"Disappointing performances and a poorly executed plot.\",\n",
    "        \"I regret spending time watching this film.\",\n",
    "        \"Predictable and lacking originality. Not worth recommending.\",\n",
    "        \"The humor fell flat, and I didn't find anything amusing.\",\n",
    "        \"A lackluster film that failed to leave a lasting impression.\",\n",
    "        \"The soundtrack did little to enhance the overall experience.\",\n",
    "        \"This movie was forgettable, and I wouldn't revisit it.\",\n",
    "        \"The pacing was off, making it difficult to stay engaged.\",\n",
    "        \"I expected more from this movie, but it let me down.\",\n",
    "        \"The characters were one-dimensional and lacked depth.\",\n",
    "        \"The plot felt contrived and didn't make much sense.\",\n",
    "        \"A weak attempt at storytelling with an unsatisfying conclusion.\",\n",
    "        \"I found the special effects to be underwhelming and unimpressive.\",\n",
    "        \"The movie lacked coherence, and the scenes felt disjointed.\",\n",
    "        \"The dialogue was clichéd and failed to resonate with me.\",\n",
    "        \"I was left questioning the purpose and meaning of the story.\",\n",
    "        \"The movie relied on tired clichés and predictable tropes.\",\n",
    "        \"The acting was wooden, and the actors lacked chemistry.\",\n",
    "        \"A disappointing film that failed to live up to expectations.\",\n",
    "        \"The movie felt like a generic rehash of familiar themes.\",\n",
    "        \"I struggled to connect with the characters and their motivations.\",\n",
    "        \"The film lacked emotional depth, leaving me indifferent.\",\n",
    "        \"The twists in the plot were unconvincing and lacked impact.\",\n",
    "        \"The cinematography was uninspiring, and the visuals were lackluster.\",\n",
    "        \"I found the movie to be pretentious and self-indulgent.\",\n",
    "        \"The director's vision seemed muddled and unclear.\",\n",
    "        \"The movie felt like a missed opportunity to explore deeper themes.\",\n",
    "        \"I was left with more questions than answers by the end.\",\n",
    "        \"The humor was forced, and I didn't find it amusing.\",\n",
    "        \"The movie failed to create a compelling and engaging narrative.\",\n",
    "        \"A forgettable experience that I wouldn't recommend to others.\",\n",
    "        \"I struggled to stay interested, and the plot failed to captivate me.\",\n",
    "        \"The performances were lackluster, and the actors seemed uninvested.\",\n",
    "        \"The movie felt like a chore to watch, and I wouldn't revisit it.\",\n",
    "        \"I was left feeling underwhelmed and dissatisfied.\",\n",
    "        \"The film lacked originality, and I've seen similar stories done better.\",\n",
    "        \"I found myself checking the time, waiting for the movie to be over.\",\n",
    "        \"The movie felt like a generic rehash of familiar tropes.\",\n",
    "        \"I was disappointed by the lack of depth in the story.\",\n",
    "       \n",
    "    ]\n",
    "\n",
    "    labels = [1] * len(positive_reviews) + [0] * len(negative_reviews)\n",
    "    all_reviews = positive_reviews + negative_reviews\n",
    "\n",
    "    # Shuffle the data\n",
    "    combined_data = list(zip(all_reviews, labels))\n",
    "    random.shuffle(combined_data)\n",
    "\n",
    "    # Create a DataFrame\n",
    "    df = pd.DataFrame(combined_data, columns=['text', 'review'])\n",
    "\n",
    "    return df.head(num_samples)\n",
    "\n",
    "# Generate synthetic data with 300 rows\n",
    "df = generate_synthetic_data(500)\n",
    "\n",
    "# Save to CSV\n",
    "df.to_csv('movie_reviews_dataset.csv', index=False)\n",
    "\n",
    "# Display the DataFrame\n",
    "print(df.head())\n"
   ]
  },
  {
   "cell_type": "code",
   "execution_count": 5,
   "metadata": {},
   "outputs": [],
   "source": [
    "df = pd.read_csv('movie_reviews_dataset.csv')"
   ]
  },
  {
   "cell_type": "code",
   "execution_count": 6,
   "metadata": {},
   "outputs": [
    {
     "name": "stdout",
     "output_type": "stream",
     "text": [
      "<class 'pandas.core.frame.DataFrame'>\n",
      "RangeIndex: 210 entries, 0 to 209\n",
      "Data columns (total 2 columns):\n",
      " #   Column  Non-Null Count  Dtype \n",
      "---  ------  --------------  ----- \n",
      " 0   text    210 non-null    object\n",
      " 1   review  210 non-null    int64 \n",
      "dtypes: int64(1), object(1)\n",
      "memory usage: 3.4+ KB\n"
     ]
    }
   ],
   "source": [
    "df.info()"
   ]
  },
  {
   "cell_type": "code",
   "execution_count": 12,
   "metadata": {},
   "outputs": [
    {
     "data": {
      "text/plain": [
       "<bound method NDFrame.describe of                                                   text  review\n",
       "0    A complete waste of time. I wouldn't recommend...       0\n",
       "1    The movie was terrible. I didn't enjoy it at all.       0\n",
       "2        I loved the movie. The storyline was amazing.       1\n",
       "3    I found the movie to be both entertaining and ...       1\n",
       "4                         I regret watching this film.       0\n",
       "..                                                 ...     ...\n",
       "205  The movie had a unique and fresh perspective t...       1\n",
       "206  A disappointing film that failed to live up to...       0\n",
       "207  The humor in the movie was spot-on and had me ...       1\n",
       "208  The soundtrack did little to enhance the overa...       0\n",
       "209  The movie left me in awe, and I couldn't stop ...       1\n",
       "\n",
       "[210 rows x 2 columns]>"
      ]
     },
     "execution_count": 12,
     "metadata": {},
     "output_type": "execute_result"
    }
   ],
   "source": [
    "df.describe"
   ]
  },
  {
   "cell_type": "code",
   "execution_count": 20,
   "metadata": {},
   "outputs": [
    {
     "data": {
      "text/html": [
       "<div>\n",
       "<style scoped>\n",
       "    .dataframe tbody tr th:only-of-type {\n",
       "        vertical-align: middle;\n",
       "    }\n",
       "\n",
       "    .dataframe tbody tr th {\n",
       "        vertical-align: top;\n",
       "    }\n",
       "\n",
       "    .dataframe thead th {\n",
       "        text-align: right;\n",
       "    }\n",
       "</style>\n",
       "<table border=\"1\" class=\"dataframe\">\n",
       "  <thead>\n",
       "    <tr style=\"text-align: right;\">\n",
       "      <th></th>\n",
       "      <th>text</th>\n",
       "      <th>review</th>\n",
       "    </tr>\n",
       "  </thead>\n",
       "  <tbody>\n",
       "    <tr>\n",
       "      <th>0</th>\n",
       "      <td>A complete waste of time. I wouldn't recommend...</td>\n",
       "      <td>0</td>\n",
       "    </tr>\n",
       "    <tr>\n",
       "      <th>1</th>\n",
       "      <td>The movie was terrible. I didn't enjoy it at all.</td>\n",
       "      <td>0</td>\n",
       "    </tr>\n",
       "    <tr>\n",
       "      <th>2</th>\n",
       "      <td>I loved the movie. The storyline was amazing.</td>\n",
       "      <td>1</td>\n",
       "    </tr>\n",
       "    <tr>\n",
       "      <th>3</th>\n",
       "      <td>I found the movie to be both entertaining and ...</td>\n",
       "      <td>1</td>\n",
       "    </tr>\n",
       "    <tr>\n",
       "      <th>4</th>\n",
       "      <td>I regret watching this film.</td>\n",
       "      <td>0</td>\n",
       "    </tr>\n",
       "  </tbody>\n",
       "</table>\n",
       "</div>"
      ],
      "text/plain": [
       "                                                text  review\n",
       "0  A complete waste of time. I wouldn't recommend...       0\n",
       "1  The movie was terrible. I didn't enjoy it at all.       0\n",
       "2      I loved the movie. The storyline was amazing.       1\n",
       "3  I found the movie to be both entertaining and ...       1\n",
       "4                       I regret watching this film.       0"
      ]
     },
     "execution_count": 20,
     "metadata": {},
     "output_type": "execute_result"
    }
   ],
   "source": [
    "df.head()"
   ]
  },
  {
   "cell_type": "code",
   "execution_count": 21,
   "metadata": {},
   "outputs": [],
   "source": [
    "from nltk.tokenize import word_tokenize\n",
    "from nltk.stem import WordNetLemmatizer\n",
    "from nltk.corpus import stopwords\n",
    "from sklearn.feature_extraction.text import TfidfVectorizer\n",
    "import string"
   ]
  },
  {
   "cell_type": "code",
   "execution_count": 22,
   "metadata": {},
   "outputs": [],
   "source": [
    "\n",
    "\n",
    "def preprocess_text(text):\n",
    "    # Tokenization\n",
    "    tokens = word_tokenize(text)\n",
    "    \n",
    "    # Lemmatization\n",
    "    lemmatizer = WordNetLemmatizer()\n",
    "    lemmatized_tokens = [lemmatizer.lemmatize(token) for token in tokens]\n",
    "    \n",
    "    # Remove stopwords and punctuation\n",
    "    stop_words = set(stopwords.words('english'))\n",
    "    filtered_tokens = [token.lower() for token in lemmatized_tokens if token.lower() not in stop_words and token not in string.punctuation]\n",
    "    \n",
    "    # Join the tokens back into a text string\n",
    "    processed_text = ' '.join(filtered_tokens)\n",
    "    \n",
    "    return processed_text\n"
   ]
  },
  {
   "cell_type": "code",
   "execution_count": 23,
   "metadata": {},
   "outputs": [],
   "source": [
    "\n",
    "df['processed_text'] = df['text'].apply(preprocess_text)"
   ]
  },
  {
   "cell_type": "code",
   "execution_count": 24,
   "metadata": {},
   "outputs": [],
   "source": [
    "\n",
    "# TF-IDF Vectorization\n",
    "tfidf_vectorizer = TfidfVectorizer()\n",
    "X_tfidf = tfidf_vectorizer.fit_transform(df['processed_text'])\n",
    "y_tfidf = df['review']\n"
   ]
  },
  {
   "cell_type": "code",
   "execution_count": 25,
   "metadata": {},
   "outputs": [],
   "source": [
    "from sklearn.model_selection import train_test_split\n",
    "from sklearn.naive_bayes import MultinomialNB\n",
    "from sklearn.metrics import accuracy_score, classification_report"
   ]
  },
  {
   "cell_type": "code",
   "execution_count": 26,
   "metadata": {},
   "outputs": [],
   "source": [
    "\n",
    "# Split the data into training and testing sets\n",
    "X_train_tfidf, X_test_tfidf, y_train_tfidf, y_test_tfidf = train_test_split(X_tfidf, y_tfidf, test_size=0.2, random_state=42)\n"
   ]
  },
  {
   "cell_type": "code",
   "execution_count": 27,
   "metadata": {},
   "outputs": [
    {
     "data": {
      "text/html": [
       "<style>#sk-container-id-1 {color: black;background-color: white;}#sk-container-id-1 pre{padding: 0;}#sk-container-id-1 div.sk-toggleable {background-color: white;}#sk-container-id-1 label.sk-toggleable__label {cursor: pointer;display: block;width: 100%;margin-bottom: 0;padding: 0.3em;box-sizing: border-box;text-align: center;}#sk-container-id-1 label.sk-toggleable__label-arrow:before {content: \"▸\";float: left;margin-right: 0.25em;color: #696969;}#sk-container-id-1 label.sk-toggleable__label-arrow:hover:before {color: black;}#sk-container-id-1 div.sk-estimator:hover label.sk-toggleable__label-arrow:before {color: black;}#sk-container-id-1 div.sk-toggleable__content {max-height: 0;max-width: 0;overflow: hidden;text-align: left;background-color: #f0f8ff;}#sk-container-id-1 div.sk-toggleable__content pre {margin: 0.2em;color: black;border-radius: 0.25em;background-color: #f0f8ff;}#sk-container-id-1 input.sk-toggleable__control:checked~div.sk-toggleable__content {max-height: 200px;max-width: 100%;overflow: auto;}#sk-container-id-1 input.sk-toggleable__control:checked~label.sk-toggleable__label-arrow:before {content: \"▾\";}#sk-container-id-1 div.sk-estimator input.sk-toggleable__control:checked~label.sk-toggleable__label {background-color: #d4ebff;}#sk-container-id-1 div.sk-label input.sk-toggleable__control:checked~label.sk-toggleable__label {background-color: #d4ebff;}#sk-container-id-1 input.sk-hidden--visually {border: 0;clip: rect(1px 1px 1px 1px);clip: rect(1px, 1px, 1px, 1px);height: 1px;margin: -1px;overflow: hidden;padding: 0;position: absolute;width: 1px;}#sk-container-id-1 div.sk-estimator {font-family: monospace;background-color: #f0f8ff;border: 1px dotted black;border-radius: 0.25em;box-sizing: border-box;margin-bottom: 0.5em;}#sk-container-id-1 div.sk-estimator:hover {background-color: #d4ebff;}#sk-container-id-1 div.sk-parallel-item::after {content: \"\";width: 100%;border-bottom: 1px solid gray;flex-grow: 1;}#sk-container-id-1 div.sk-label:hover label.sk-toggleable__label {background-color: #d4ebff;}#sk-container-id-1 div.sk-serial::before {content: \"\";position: absolute;border-left: 1px solid gray;box-sizing: border-box;top: 0;bottom: 0;left: 50%;z-index: 0;}#sk-container-id-1 div.sk-serial {display: flex;flex-direction: column;align-items: center;background-color: white;padding-right: 0.2em;padding-left: 0.2em;position: relative;}#sk-container-id-1 div.sk-item {position: relative;z-index: 1;}#sk-container-id-1 div.sk-parallel {display: flex;align-items: stretch;justify-content: center;background-color: white;position: relative;}#sk-container-id-1 div.sk-item::before, #sk-container-id-1 div.sk-parallel-item::before {content: \"\";position: absolute;border-left: 1px solid gray;box-sizing: border-box;top: 0;bottom: 0;left: 50%;z-index: -1;}#sk-container-id-1 div.sk-parallel-item {display: flex;flex-direction: column;z-index: 1;position: relative;background-color: white;}#sk-container-id-1 div.sk-parallel-item:first-child::after {align-self: flex-end;width: 50%;}#sk-container-id-1 div.sk-parallel-item:last-child::after {align-self: flex-start;width: 50%;}#sk-container-id-1 div.sk-parallel-item:only-child::after {width: 0;}#sk-container-id-1 div.sk-dashed-wrapped {border: 1px dashed gray;margin: 0 0.4em 0.5em 0.4em;box-sizing: border-box;padding-bottom: 0.4em;background-color: white;}#sk-container-id-1 div.sk-label label {font-family: monospace;font-weight: bold;display: inline-block;line-height: 1.2em;}#sk-container-id-1 div.sk-label-container {text-align: center;}#sk-container-id-1 div.sk-container {/* jupyter's `normalize.less` sets `[hidden] { display: none; }` but bootstrap.min.css set `[hidden] { display: none !important; }` so we also need the `!important` here to be able to override the default hidden behavior on the sphinx rendered scikit-learn.org. See: https://github.com/scikit-learn/scikit-learn/issues/21755 */display: inline-block !important;position: relative;}#sk-container-id-1 div.sk-text-repr-fallback {display: none;}</style><div id=\"sk-container-id-1\" class=\"sk-top-container\"><div class=\"sk-text-repr-fallback\"><pre>MultinomialNB()</pre><b>In a Jupyter environment, please rerun this cell to show the HTML representation or trust the notebook. <br />On GitHub, the HTML representation is unable to render, please try loading this page with nbviewer.org.</b></div><div class=\"sk-container\" hidden><div class=\"sk-item\"><div class=\"sk-estimator sk-toggleable\"><input class=\"sk-toggleable__control sk-hidden--visually\" id=\"sk-estimator-id-1\" type=\"checkbox\" checked><label for=\"sk-estimator-id-1\" class=\"sk-toggleable__label sk-toggleable__label-arrow\">MultinomialNB</label><div class=\"sk-toggleable__content\"><pre>MultinomialNB()</pre></div></div></div></div></div>"
      ],
      "text/plain": [
       "MultinomialNB()"
      ]
     },
     "execution_count": 27,
     "metadata": {},
     "output_type": "execute_result"
    }
   ],
   "source": [
    "classifier_tfidf = MultinomialNB()\n",
    "classifier_tfidf.fit(X_train_tfidf, y_train_tfidf)\n"
   ]
  },
  {
   "cell_type": "code",
   "execution_count": 29,
   "metadata": {},
   "outputs": [
    {
     "name": "stdout",
     "output_type": "stream",
     "text": [
      "TF-IDF Representation Accuracy: 0.7857142857142857\n",
      "Classification Report:\n",
      "               precision    recall  f1-score   support\n",
      "\n",
      "           0       0.73      0.90      0.81        21\n",
      "           1       0.88      0.67      0.76        21\n",
      "\n",
      "    accuracy                           0.79        42\n",
      "   macro avg       0.80      0.79      0.78        42\n",
      "weighted avg       0.80      0.79      0.78        42\n",
      "\n"
     ]
    }
   ],
   "source": [
    "\n",
    "y_pred_tfidf = classifier_tfidf.predict(X_test_tfidf)\n",
    "\n",
    "accuracy_tfidf = accuracy_score(y_test_tfidf, y_pred_tfidf)\n",
    "print(\"TF-IDF Representation Accuracy:\", accuracy_tfidf)\n",
    "print(\"Classification Report:\\n\", classification_report(y_test_tfidf, y_pred_tfidf))"
   ]
  },
  {
   "cell_type": "markdown",
   "metadata": {},
   "source": [
    "### testing wrt unknow data "
   ]
  },
  {
   "cell_type": "code",
   "execution_count": 30,
   "metadata": {},
   "outputs": [],
   "source": [
    "new_review = \"This movie was absolutely fantastic. The performances were outstanding!\""
   ]
  },
  {
   "cell_type": "code",
   "execution_count": 31,
   "metadata": {},
   "outputs": [],
   "source": [
    "processed_new_review = preprocess_text(new_review)\n",
    "\n",
    "new_review_tfidf = tfidf_vectorizer.transform([processed_new_review])"
   ]
  },
  {
   "cell_type": "code",
   "execution_count": 32,
   "metadata": {},
   "outputs": [
    {
     "name": "stdout",
     "output_type": "stream",
     "text": [
      "Original Review:\n",
      "This movie was absolutely fantastic. The performances were outstanding!\n",
      "\n",
      "Predicted Sentiment:\n",
      "Positive\n"
     ]
    }
   ],
   "source": [
    "prediction = classifier_tfidf.predict(new_review_tfidf)[0]\n",
    "\n",
    "\n",
    "print(\"Original Review:\")\n",
    "print(new_review)\n",
    "print(\"\\nPredicted Sentiment:\")\n",
    "if prediction == 1:\n",
    "    print(\"Positive\")\n",
    "else:\n",
    "    print(\"Negative\")"
   ]
  },
  {
   "cell_type": "code",
   "execution_count": null,
   "metadata": {},
   "outputs": [],
   "source": []
  },
  {
   "cell_type": "code",
   "execution_count": null,
   "metadata": {},
   "outputs": [],
   "source": []
  }
 ],
 "metadata": {
  "kernelspec": {
   "display_name": "base",
   "language": "python",
   "name": "python3"
  },
  "language_info": {
   "codemirror_mode": {
    "name": "ipython",
    "version": 3
   },
   "file_extension": ".py",
   "mimetype": "text/x-python",
   "name": "python",
   "nbconvert_exporter": "python",
   "pygments_lexer": "ipython3",
   "version": "3.11.5"
  }
 },
 "nbformat": 4,
 "nbformat_minor": 2
}
